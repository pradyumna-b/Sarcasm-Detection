{
 "cells": [
  {
   "cell_type": "code",
   "execution_count": 0,
   "metadata": {
    "colab": {
     "base_uri": "https://localhost:8080/",
     "height": 120
    },
    "colab_type": "code",
    "id": "Vaw-nBWyEHb5",
    "outputId": "e6786b45-e932-4c1a-9943-e0264f615de1"
   },
   "outputs": [
    {
     "name": "stdout",
     "output_type": "stream",
     "text": [
      "Go to this URL in a browser: https://accounts.google.com/o/oauth2/auth?client_id=947318989803-6bn6qk8qdgf4n4g3pfee6491hc0brc4i.apps.googleusercontent.com&redirect_uri=urn%3aietf%3awg%3aoauth%3a2.0%3aoob&response_type=code&scope=email%20https%3a%2f%2fwww.googleapis.com%2fauth%2fdocs.test%20https%3a%2f%2fwww.googleapis.com%2fauth%2fdrive%20https%3a%2f%2fwww.googleapis.com%2fauth%2fdrive.photos.readonly%20https%3a%2f%2fwww.googleapis.com%2fauth%2fpeopleapi.readonly\n",
      "\n",
      "Enter your authorization code:\n",
      "··········\n",
      "Mounted at /content/drive\n"
     ]
    }
   ],
   "source": [
    "from google.colab import drive\n",
    "drive.mount('/content/drive')"
   ]
  },
  {
   "cell_type": "code",
   "execution_count": 0,
   "metadata": {
    "colab": {
     "base_uri": "https://localhost:8080/",
     "height": 33
    },
    "colab_type": "code",
    "id": "SZkwPK57EPVq",
    "outputId": "09f87c0d-9d42-4da5-bf36-fdb360147462"
   },
   "outputs": [
    {
     "name": "stdout",
     "output_type": "stream",
     "text": [
      "/content/drive/My Drive/IronyDetection/Classification_system\n"
     ]
    }
   ],
   "source": [
    "%cd drive/My Drive/IronyDetection/Classification_system/"
   ]
  },
  {
   "cell_type": "code",
   "execution_count": 0,
   "metadata": {
    "colab": {},
    "colab_type": "code",
    "id": "DRDVnkT0EUBW"
   },
   "outputs": [],
   "source": [
    "import pickle\n",
    "import random\n",
    "\n",
    "with open(\"test_hinglish_stopwords_present_rarewords_absent.txt\", \"rb\") as fp:\n",
    "  hinglish_tweets = pickle.load(fp)\n",
    "\n",
    "with open(\"test_english_stopwords_present_rarewords_absent.txt\", \"rb\") as fp:\n",
    "  english_tweets = pickle.load(fp)\n"
   ]
  },
  {
   "cell_type": "code",
   "execution_count": 0,
   "metadata": {
    "colab": {
     "base_uri": "https://localhost:8080/",
     "height": 50
    },
    "colab_type": "code",
    "id": "ZAq_PSOFqK6S",
    "outputId": "cebffd40-e656-451f-dc84-ab5c76eb9acc"
   },
   "outputs": [
    {
     "name": "stdout",
     "output_type": "stream",
     "text": [
      "426850\n",
      "298554\n"
     ]
    }
   ],
   "source": [
    "print(len(hinglish_tweets))\n",
    "print(len(english_tweets))"
   ]
  },
  {
   "cell_type": "code",
   "execution_count": 0,
   "metadata": {
    "colab": {},
    "colab_type": "code",
    "id": "J5urUby2Eb6s"
   },
   "outputs": [],
   "source": [
    "hinglish_tweets = [ x for x in hinglish_tweets if x!=[] ]\n",
    "english_tweets = [ x for x in english_tweets if x!=[] ]"
   ]
  },
  {
   "cell_type": "code",
   "execution_count": 0,
   "metadata": {
    "colab": {},
    "colab_type": "code",
    "id": "TSMYpIL7tcTN"
   },
   "outputs": [],
   "source": [
    "#english_tweets = english_tweets[:10000]"
   ]
  },
  {
   "cell_type": "code",
   "execution_count": 0,
   "metadata": {
    "colab": {
     "base_uri": "https://localhost:8080/",
     "height": 67
    },
    "colab_type": "code",
    "id": "-oCpLn-EE1Xa",
    "outputId": "4a5e7e1b-fcf5-419a-e352-802bd750970b"
   },
   "outputs": [
    {
     "name": "stdout",
     "output_type": "stream",
     "text": [
      "Hinglish tweets added\n",
      "English tweets added\n",
      "Shuffled all tweets\n"
     ]
    }
   ],
   "source": [
    "total_tweets = []\n",
    "\n",
    "total_tweets.extend(hinglish_tweets)\n",
    "print(\"Hinglish tweets added\")\n",
    "\n",
    "total_tweets.extend(english_tweets)\n",
    "print(\"English tweets added\")\n",
    "\n",
    "random.shuffle(total_tweets)\n",
    "\n",
    "print(\"Shuffled all tweets\")"
   ]
  },
  {
   "cell_type": "code",
   "execution_count": 0,
   "metadata": {
    "colab": {
     "base_uri": "https://localhost:8080/",
     "height": 33
    },
    "colab_type": "code",
    "id": "05QjFOoHtnNX",
    "outputId": "f36df1cb-ff83-4f21-ef0b-94c6ed23f9de"
   },
   "outputs": [
    {
     "name": "stdout",
     "output_type": "stream",
     "text": [
      "725404\n"
     ]
    }
   ],
   "source": [
    "print(len(total_tweets))"
   ]
  },
  {
   "cell_type": "code",
   "execution_count": 0,
   "metadata": {
    "colab": {},
    "colab_type": "code",
    "id": "pKMZu20EFjId"
   },
   "outputs": [],
   "source": [
    "import pickle\n",
    "with open(\"test_hinglish_plus_english_stopwords_present_rarewords_absent.txt\", \"wb\") as fp:   \n",
    "  pickle.dump(total_tweets, fp)"
   ]
  }
 ],
 "metadata": {
  "colab": {
   "collapsed_sections": [],
   "name": "mergeTweets.ipynb",
   "provenance": []
  },
  "kernelspec": {
   "display_name": "Python 3",
   "language": "python",
   "name": "python3"
  },
  "language_info": {
   "codemirror_mode": {
    "name": "ipython",
    "version": 3
   },
   "file_extension": ".py",
   "mimetype": "text/x-python",
   "name": "python",
   "nbconvert_exporter": "python",
   "pygments_lexer": "ipython3",
   "version": "3.8.8"
  }
 },
 "nbformat": 4,
 "nbformat_minor": 1
}
